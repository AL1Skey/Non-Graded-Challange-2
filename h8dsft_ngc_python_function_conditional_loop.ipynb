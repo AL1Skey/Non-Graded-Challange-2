{
 "cells": [
  {
   "cell_type": "markdown",
   "metadata": {},
   "source": [
    "Nama:Adam Nur Ramadan\n",
    "\n",
    "Batch:010"
   ]
  },
  {
   "cell_type": "markdown",
   "metadata": {},
   "source": [
    "# Task 1"
   ]
  },
  {
   "cell_type": "code",
   "execution_count": 20,
   "metadata": {},
   "outputs": [
    {
     "name": "stdout",
     "output_type": "stream",
     "text": [
      "2\n",
      "8\n"
     ]
    }
   ],
   "source": [
    "def numberWords(words):\n",
    "    li = words.split(\" \")\n",
    "    return len(li)\n",
    "\n",
    "hello = \"Hello World\"\n",
    "sentence = \"Once Upon a Time in a faraway island\"\n",
    "\n",
    "print(numberWords(hello))\n",
    "print(numberWords(sentence))"
   ]
  },
  {
   "cell_type": "markdown",
   "metadata": {},
   "source": [
    "# Task 2"
   ]
  },
  {
   "cell_type": "code",
   "execution_count": 21,
   "metadata": {},
   "outputs": [
    {
     "name": "stdout",
     "output_type": "stream",
     "text": [
      "[5, 10, 15]\n",
      "[10, 20, 30, 40]\n"
     ]
    }
   ],
   "source": [
    "def find_multiple(start, end, multi):\n",
    "    return list(a for a in range(start-1,end,multi) if a > 0)\n",
    "\n",
    "print(find_multiple(1,20,5))\n",
    "print(find_multiple(1,50,10))"
   ]
  },
  {
   "cell_type": "markdown",
   "metadata": {},
   "source": [
    "# Task 3    "
   ]
  },
  {
   "cell_type": "code",
   "execution_count": 61,
   "metadata": {},
   "outputs": [
    {
     "name": "stdout",
     "output_type": "stream",
     "text": [
      "{'Adam': 2.5, 'Faiz': 4.0}\n",
      "{'Albert': 'A', 'Dwi': 'B', 'Syahdan': 'D'}\n"
     ]
    }
   ],
   "source": [
    "scoreData = [[85,100],[70,84],[60,69],[50,59],[40,49],[0,39]]\n",
    "gradeData = {\n",
    "    \"letter_grade\":[\"A\",\"B\",\"C\",\"D\",\"E\",\"F\"],\n",
    "    \"gpa\":[4.0,3.0,2.5,2.0,1.5,1.0]\n",
    "}\n",
    "\n",
    "def Grade_Converter(convert_to,**kwargs):\n",
    "    li = dict(**kwargs)\n",
    "    output = {}\n",
    "    count = 0\n",
    "    grading = gradeData[convert_to]\n",
    "    for key in li:\n",
    "        for index in grading:\n",
    "            score = scoreData[count]\n",
    "            if li[key] in range(score[0],score[1]):\n",
    "                output[key]=grading[count]\n",
    "                break\n",
    "            count+=1\n",
    "        count =  0\n",
    "    \n",
    "    return output\n",
    "\n",
    "print(Grade_Converter(convert_to='gpa', Adam=62, Faiz=91))\n",
    "print(Grade_Converter(convert_to='letter_grade', Albert=90, Dwi=82, Syahdan=58, Veronica=84))"
   ]
  },
  {
   "cell_type": "markdown",
   "metadata": {},
   "source": [
    "# Task 4"
   ]
  },
  {
   "cell_type": "code",
   "execution_count": 67,
   "metadata": {},
   "outputs": [
    {
     "name": "stdout",
     "output_type": "stream",
     "text": [
      "1\n",
      "55\n",
      "3\n"
     ]
    }
   ],
   "source": [
    "def fibonacci(n):\n",
    "    fb=[0,1]\n",
    "    start = 0\n",
    "    finish = 1\n",
    "    output = 0\n",
    "    if n < len(fb):\n",
    "        return fb[n-1]\n",
    "    else:\n",
    "        for i in range(fb[len(fb)-1],n):\n",
    "            output = start + finish\n",
    "            start = finish\n",
    "            finish = output\n",
    "        return output\n",
    "    \n",
    "print(fibonacci(n=0))\n",
    "print(fibonacci(n=10))\n",
    "print(fibonacci(n=4))\n",
    "            \n"
   ]
  }
 ],
 "metadata": {
  "kernelspec": {
   "display_name": "base",
   "language": "python",
   "name": "python3"
  },
  "language_info": {
   "codemirror_mode": {
    "name": "ipython",
    "version": 3
   },
   "file_extension": ".py",
   "mimetype": "text/x-python",
   "name": "python",
   "nbconvert_exporter": "python",
   "pygments_lexer": "ipython3",
   "version": "3.11.4"
  }
 },
 "nbformat": 4,
 "nbformat_minor": 2
}
