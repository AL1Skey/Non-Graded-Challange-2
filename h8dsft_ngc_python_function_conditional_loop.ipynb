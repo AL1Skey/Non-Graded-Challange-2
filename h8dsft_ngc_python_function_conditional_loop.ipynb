{
 "cells": [
  {
   "cell_type": "markdown",
   "metadata": {},
   "source": [
    "Nama:Adam Nur Ramadan\n",
    "\n",
    "Batch:010"
   ]
  },
  {
   "cell_type": "markdown",
   "metadata": {},
   "source": [
    "# Task 1"
   ]
  },
  {
   "cell_type": "code",
   "execution_count": 20,
   "metadata": {},
   "outputs": [
    {
     "name": "stdout",
     "output_type": "stream",
     "text": [
      "2\n",
      "8\n"
     ]
    }
   ],
   "source": [
    "def numberWords(words):\n",
    "    li = words.split(\" \")\n",
    "    return len(li)\n",
    "\n",
    "hello = \"Hello World\"\n",
    "sentence = \"Once Upon a Time in a faraway island\"\n",
    "\n",
    "print(numberWords(hello))\n",
    "print(numberWords(sentence))"
   ]
  },
  {
   "cell_type": "markdown",
   "metadata": {},
   "source": [
    "# Task 2"
   ]
  },
  {
   "cell_type": "code",
   "execution_count": 21,
   "metadata": {},
   "outputs": [
    {
     "name": "stdout",
     "output_type": "stream",
     "text": [
      "[5, 10, 15]\n",
      "[10, 20, 30, 40]\n"
     ]
    }
   ],
   "source": [
    "def find_multiple(start, end, multi):\n",
    "    return list(a for a in range(start-1,end,multi) if a > 0)\n",
    "\n",
    "print(find_multiple(1,20,5))\n",
    "print(find_multiple(1,50,10))"
   ]
  },
  {
   "cell_type": "markdown",
   "metadata": {},
   "source": [
    "# Task 3    "
   ]
  },
  {
   "cell_type": "code",
   "execution_count": 61,
   "metadata": {},
   "outputs": [
    {
     "name": "stdout",
     "output_type": "stream",
     "text": [
      "{'Adam': 2.5, 'Faiz': 4.0}\n",
      "{'Albert': 'A', 'Dwi': 'B', 'Syahdan': 'D'}\n"
     ]
    }
   ],
   "source": [
    "scoreData = [[85,100],[70,85],[60,70],[50,60],[40,50],[0,40]] # Create head and Tail\n",
    "gradeData = {\n",
    "    \"letter_grade\":[\"A\",\"B\",\"C\",\"D\",\"E\",\"F\"],\n",
    "    \"gpa\":[4.0,3.0,2.5,2.0,1.5,1.0]\n",
    "}# Create grade Data\n",
    "\n",
    "def Grade_Converter(convert_to,**kwargs):\n",
    "    li = dict(**kwargs)#Convert many argument to dictionary\n",
    "    output = {}#Create empty dictionary\n",
    "    count = 0#Create counter for matching\n",
    "    grading = gradeData[convert_to]#Fetch gradeData list with convert_to as key\n",
    "    for key,data in li:#Get name and value inside list with for loop\n",
    "        for index in grading:#fetch each of value inside grading\n",
    "            score = scoreData[count]#fetch scoreData list according to count value\n",
    "            if data in range(score[0],score[1]):#if value are in range of head and tail of score\n",
    "                output[key]=grading[count]#Set relationship between name and grading\n",
    "                break\n",
    "            count+=1 #go to next scoreData list\n",
    "        count =  0 #reset counter to be used again in different name\n",
    "    \n",
    "    return output#return newly created grade converter\n",
    "\n",
    "print(Grade_Converter(convert_to='gpa', Adam=62, Faiz=91))\n",
    "print(Grade_Converter(convert_to='letter_grade', Albert=90, Dwi=82, Syahdan=58, Veronica=84))"
   ]
  },
  {
   "cell_type": "markdown",
   "metadata": {},
   "source": [
    "# Task 4"
   ]
  },
  {
   "cell_type": "code",
   "execution_count": 20,
   "metadata": {},
   "outputs": [
    {
     "name": "stdout",
     "output_type": "stream",
     "text": [
      "0\n",
      "3\n",
      "55\n",
      "0,1,1,2,3,5,8,13,21,34,55,89,144,233,377,610,987,1597,2584,4181,6765,10946,17711,28657,46368,75025,121393,196418,317811,514229,832040,1346269,2178309,3524578,5702887,9227465,14930352,24157817,39088169,63245986,102334155,165580141,267914296,433494437,701408733,1134903170,1836311903,2971215073,4807526976,7778742049,"
     ]
    }
   ],
   "source": [
    "def fibonacci(n):\n",
    "    fb=[0,1,1]#create starting point\n",
    "    start = 0#create head\n",
    "    finish = 1#create tail\n",
    "    output = 0# set the output\n",
    "    if n < len(fb):# if fibonanci is less than starting point length\n",
    "        return fb[n]#return value inside starting point instead\n",
    "    else:\n",
    "        for i in range(fb[len(fb)-1],n):#Loop from tail of starting point to n value\n",
    "            output = start + finish#Fibonacci equivalent of Un-1 + Un-2\n",
    "            start = finish#Update head to current tail\n",
    "            finish = output#update tail to newly tail\n",
    "        return output\n",
    "    \n",
    "print(fibonacci(n=0))\n",
    "print(fibonacci(n=4))\n",
    "print(fibonacci(n=10))\n"
   ]
  },
  {
   "cell_type": "code",
   "execution_count": null,
   "metadata": {},
   "outputs": [],
   "source": []
  }
 ],
 "metadata": {
  "kernelspec": {
   "display_name": "base",
   "language": "python",
   "name": "python3"
  },
  "language_info": {
   "codemirror_mode": {
    "name": "ipython",
    "version": 3
   },
   "file_extension": ".py",
   "mimetype": "text/x-python",
   "name": "python",
   "nbconvert_exporter": "python",
   "pygments_lexer": "ipython3",
   "version": "3.11.4"
  }
 },
 "nbformat": 4,
 "nbformat_minor": 2
}
